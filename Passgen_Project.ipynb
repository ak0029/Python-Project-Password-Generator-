{
 "cells": [
  {
   "cell_type": "code",
   "execution_count": 21,
   "metadata": {},
   "outputs": [
    {
     "name": "stdout",
     "output_type": "stream",
     "text": [
      "Please enter password length:6\n",
      "your random password is: \n",
      "gfBx!K\n"
     ]
    }
   ],
   "source": [
    "import string\n",
    "import random\n",
    "\n",
    "if __name__ == \"__main__\":\n",
    "\n",
    "    s1= string.ascii_lowercase\n",
    "    s2= string.ascii_uppercase\n",
    "    s3= string.digits\n",
    "    s4=  string.punctuation\n",
    "#     print(s1)\n",
    "#     print(s2)\n",
    "#     print(s3)\n",
    "#     print(s4)\n",
    "\n",
    "pwlen= int(input('Please enter password length:')) #asking user to enter the password length\n",
    "\n",
    "s= [] #creating blank list to concatinate the all letters\n",
    "s.extend(list(s1))\n",
    "s.extend(list(s2))\n",
    "s.extend(list(s3))\n",
    "s.extend(list(s4))\n",
    "# print(s) # we need to make one list and add all the elements of s1,s2... to create all the charactors in one \n",
    "#place to access one by one to generate the charactors\n",
    "\n",
    "#now imported random module to import random elements frm list import random\n",
    "\n",
    "random.shuffle(s)\n",
    "# print(s)\n",
    "# print(\"length of list is:\", len(s))\n",
    "print(\"your random password is: \")\n",
    "print(\"\".join(s[0:pwlen]))"
   ]
  },
  {
   "cell_type": "code",
   "execution_count": null,
   "metadata": {},
   "outputs": [],
   "source": []
  }
 ],
 "metadata": {
  "kernelspec": {
   "display_name": "Python 3",
   "language": "python",
   "name": "python3"
  },
  "language_info": {
   "codemirror_mode": {
    "name": "ipython",
    "version": 3
   },
   "file_extension": ".py",
   "mimetype": "text/x-python",
   "name": "python",
   "nbconvert_exporter": "python",
   "pygments_lexer": "ipython3",
   "version": "3.7.4"
  }
 },
 "nbformat": 4,
 "nbformat_minor": 2
}
